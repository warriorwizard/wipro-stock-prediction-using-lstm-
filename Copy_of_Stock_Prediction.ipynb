{
  "cells": [
    {
      "cell_type": "code",
      "execution_count": 1,
      "metadata": {
        "id": "qNYMEOdmsOac"
      },
      "outputs": [],
      "source": [
        "import numpy as np\n",
        "import pandas as pd\n",
        "\n",
        "import matplotlib.pyplot as plt\n",
        "import seaborn as sns\n"
      ]
    },
    {
      "cell_type": "code",
      "execution_count": 2,
      "metadata": {
        "colab": {
          "base_uri": "https://localhost:8080/",
          "height": 206
        },
        "id": "Q-M-x72pu8TH",
        "outputId": "3b43ea99-d34a-4d20-dc9a-8a82d737866e"
      },
      "outputs": [
        {
          "data": {
            "text/html": [
              "<div>\n",
              "<style scoped>\n",
              "    .dataframe tbody tr th:only-of-type {\n",
              "        vertical-align: middle;\n",
              "    }\n",
              "\n",
              "    .dataframe tbody tr th {\n",
              "        vertical-align: top;\n",
              "    }\n",
              "\n",
              "    .dataframe thead th {\n",
              "        text-align: right;\n",
              "    }\n",
              "</style>\n",
              "<table border=\"1\" class=\"dataframe\">\n",
              "  <thead>\n",
              "    <tr style=\"text-align: right;\">\n",
              "      <th></th>\n",
              "      <th>Date</th>\n",
              "      <th>Open</th>\n",
              "      <th>High</th>\n",
              "      <th>Low</th>\n",
              "      <th>Close</th>\n",
              "      <th>Adj Close</th>\n",
              "      <th>Volume</th>\n",
              "    </tr>\n",
              "  </thead>\n",
              "  <tbody>\n",
              "    <tr>\n",
              "      <th>0</th>\n",
              "      <td>1996-01-01</td>\n",
              "      <td>1.1250</td>\n",
              "      <td>1.1250</td>\n",
              "      <td>1.1250</td>\n",
              "      <td>1.1250</td>\n",
              "      <td>0.919965</td>\n",
              "      <td>19999.0</td>\n",
              "    </tr>\n",
              "    <tr>\n",
              "      <th>1</th>\n",
              "      <td>1996-01-02</td>\n",
              "      <td>1.0375</td>\n",
              "      <td>1.0375</td>\n",
              "      <td>1.0375</td>\n",
              "      <td>1.0375</td>\n",
              "      <td>0.848412</td>\n",
              "      <td>39999.0</td>\n",
              "    </tr>\n",
              "    <tr>\n",
              "      <th>2</th>\n",
              "      <td>1996-01-03</td>\n",
              "      <td>1.0750</td>\n",
              "      <td>1.0750</td>\n",
              "      <td>1.0750</td>\n",
              "      <td>1.0750</td>\n",
              "      <td>0.879077</td>\n",
              "      <td>19999.0</td>\n",
              "    </tr>\n",
              "    <tr>\n",
              "      <th>3</th>\n",
              "      <td>1996-01-04</td>\n",
              "      <td>1.0750</td>\n",
              "      <td>1.0750</td>\n",
              "      <td>1.0750</td>\n",
              "      <td>1.0750</td>\n",
              "      <td>0.879077</td>\n",
              "      <td>119999.0</td>\n",
              "    </tr>\n",
              "    <tr>\n",
              "      <th>4</th>\n",
              "      <td>1996-01-05</td>\n",
              "      <td>1.0750</td>\n",
              "      <td>1.0750</td>\n",
              "      <td>1.0750</td>\n",
              "      <td>1.0750</td>\n",
              "      <td>0.879077</td>\n",
              "      <td>0.0</td>\n",
              "    </tr>\n",
              "  </tbody>\n",
              "</table>\n",
              "</div>"
            ],
            "text/plain": [
              "         Date    Open    High     Low   Close  Adj Close    Volume\n",
              "0  1996-01-01  1.1250  1.1250  1.1250  1.1250   0.919965   19999.0\n",
              "1  1996-01-02  1.0375  1.0375  1.0375  1.0375   0.848412   39999.0\n",
              "2  1996-01-03  1.0750  1.0750  1.0750  1.0750   0.879077   19999.0\n",
              "3  1996-01-04  1.0750  1.0750  1.0750  1.0750   0.879077  119999.0\n",
              "4  1996-01-05  1.0750  1.0750  1.0750  1.0750   0.879077       0.0"
            ]
          },
          "execution_count": 2,
          "metadata": {},
          "output_type": "execute_result"
        }
      ],
      "source": [
        "training_data = pd.read_csv('./WIPRO.NS.csv')\n",
        "\n",
        "training_data.shape\n",
        "training_data.head()"
      ]
    },
    {
      "cell_type": "code",
      "execution_count": 3,
      "metadata": {
        "colab": {
          "base_uri": "https://localhost:8080/"
        },
        "id": "Pm3EqSv_V0JB",
        "outputId": "f4558c8f-aaa3-4946-d5fc-4a369e254e4d"
      },
      "outputs": [
        {
          "data": {
            "text/plain": [
              "(6605, 1)"
            ]
          },
          "execution_count": 3,
          "metadata": {},
          "output_type": "execute_result"
        }
      ],
      "source": [
        "training_data = training_data.iloc[:, 1:2]\n",
        "\n",
        "training_data.shape\n",
        "\n",
        "# training_data.head()"
      ]
    },
    {
      "cell_type": "code",
      "execution_count": 6,
      "metadata": {
        "id": "z3OYbMhcwgqm"
      },
      "outputs": [],
      "source": [
        "# feature scaling\n",
        "\n",
        "from sklearn.preprocessing import MinMaxScaler\n",
        "\n",
        "mm = MinMaxScaler(feature_range = (0, 1))\n",
        "training_data = mm.fit_transform(training_data)\n"
      ]
    },
    {
      "cell_type": "code",
      "execution_count": 7,
      "metadata": {
        "colab": {
          "base_uri": "https://localhost:8080/"
        },
        "id": "i8re98-UxQ3y",
        "outputId": "d5b7b1a3-eeab-4297-f1ee-7c6c2e956bcd"
      },
      "outputs": [
        {
          "name": "stdout",
          "output_type": "stream",
          "text": [
            "(6604, 1)\n",
            "(6604, 1)\n"
          ]
        }
      ],
      "source": [
        "# Getting the inputs and outputs\n",
        "\n",
        "x_train = training_data[0:6604]\n",
        "y_train = training_data[1:6605]\n",
        "\n",
        "print(x_train.shape)\n",
        "print(y_train.shape)\n"
      ]
    },
    {
      "cell_type": "code",
      "execution_count": 9,
      "metadata": {
        "colab": {
          "base_uri": "https://localhost:8080/"
        },
        "id": "qTNdKPW8yFRc",
        "outputId": "f3d38a0b-48a0-4bef-ef09-a912d41f8de1"
      },
      "outputs": [
        {
          "name": "stdout",
          "output_type": "stream",
          "text": [
            "(6604, 1)\n"
          ]
        }
      ],
      "source": [
        "# reshaping\n",
        "\n",
        "x_train = np.reshape(x_train, (6604, 1))\n",
        "\n",
        "print(x_train.shape)"
      ]
    },
    {
      "cell_type": "code",
      "execution_count": 10,
      "metadata": {
        "id": "6c47hPxrzRHh"
      },
      "outputs": [],
      "source": [
        "# importing the keras libraries and packages\n",
        "\n",
        "import keras\n",
        "from keras.models import Sequential\n",
        "from keras.layers import Dense,Dropout\n",
        "from keras.layers import LSTM\n"
      ]
    },
    {
      "cell_type": "code",
      "execution_count": 8,
      "metadata": {
        "colab": {
          "base_uri": "https://localhost:8080/",
          "height": 398
        },
        "id": "Cbe32yNBzuF_",
        "outputId": "a3b5a4bb-af5b-4cbe-c786-6b6467976737"
      },
      "outputs": [
        {
          "ename": "SyntaxError",
          "evalue": "invalid syntax (1669410108.py, line 9)",
          "output_type": "error",
          "traceback": [
            "\u001b[1;36m  Input \u001b[1;32mIn [8]\u001b[1;36m\u001b[0m\n\u001b[1;33m    model.add(LSTM(50,return_sequences= True, input_shape=))\u001b[0m\n\u001b[1;37m                                                          ^\u001b[0m\n\u001b[1;31mSyntaxError\u001b[0m\u001b[1;31m:\u001b[0m invalid syntax\n"
          ]
        }
      ],
      "source": [
        "# initializing the model\n",
        "model = Sequential()\n",
        "\n",
        "# # adding the input layer and the LSTM layer\n",
        "# model.add(LSTM(units = 4, activation = 'sigmoid', input_shape = (None, 1)))\n",
        "# model.add(Dropout(0.3))\n",
        "# model.add(LSTM(units=4,return_sequences=True))\n",
        "\n",
        "model.add(LSTM(50,return_sequences= True, input_shape=))\n",
        "\n",
        "\n",
        "\n",
        "# adding the output layer\n",
        "model.add(Dense(units = 1))\n",
        "\n",
        "# compiling the model\n",
        "model.compile(optimizer = 'adam', loss = 'mean_squared_error')\n",
        "\n",
        "# fitting the RNN to the training data\n",
        "model.fit(x_train, y_train, batch_size = 32, epochs = 200)\n"
      ]
    },
    {
      "cell_type": "code",
      "execution_count": 7,
      "metadata": {},
      "outputs": [
        {
          "ename": "NameError",
          "evalue": "name 'model' is not defined",
          "output_type": "error",
          "traceback": [
            "\u001b[1;31m---------------------------------------------------------------------------\u001b[0m",
            "\u001b[1;31mNameError\u001b[0m                                 Traceback (most recent call last)",
            "\u001b[1;32md:\\proj\\Copy_of_Stock_Prediction.ipynb Cell 9'\u001b[0m in \u001b[0;36m<module>\u001b[1;34m\u001b[0m\n\u001b[0;32m      <a href='vscode-notebook-cell:/d%3A/proj/Copy_of_Stock_Prediction.ipynb#ch0000008?line=0'>1</a>\u001b[0m \u001b[39m# fitting the RNN to the training data\u001b[39;00m\n\u001b[0;32m      <a href='vscode-notebook-cell:/d%3A/proj/Copy_of_Stock_Prediction.ipynb#ch0000008?line=1'>2</a>\u001b[0m \u001b[39m# model.fit(X_train,y_train,validation_data=(X_test,y_test),epochs=100,batch_size=64,verbose=1,callbacks=[tensorboard_callback])\u001b[39;00m\n\u001b[1;32m----> <a href='vscode-notebook-cell:/d%3A/proj/Copy_of_Stock_Prediction.ipynb#ch0000008?line=3'>4</a>\u001b[0m model\u001b[39m.\u001b[39mfit(x_train, y_train, batch_size \u001b[39m=\u001b[39m \u001b[39m64\u001b[39m,verbose\u001b[39m=\u001b[39m\u001b[39m1\u001b[39m, epochs \u001b[39m=\u001b[39m \u001b[39m100\u001b[39m)\n",
            "\u001b[1;31mNameError\u001b[0m: name 'model' is not defined"
          ]
        }
      ],
      "source": [
        "# fitting the RNN to the training data\n",
        "# model.fit(X_train,y_train,validation_data=(X_test,y_test),epochs=100,batch_size=64,verbose=1,callbacks=[tensorboard_callback])\n",
        "\n",
        "model.fit(x_train, y_train, batch_size = 64,verbose=1, epochs = 100)"
      ]
    },
    {
      "cell_type": "code",
      "execution_count": 4,
      "metadata": {
        "colab": {
          "base_uri": "https://localhost:8080/",
          "height": 206
        },
        "id": "9N-6i3PXUvWU",
        "outputId": "800db33f-07a0-4767-a114-a273500ae21f"
      },
      "outputs": [
        {
          "data": {
            "text/html": [
              "<div>\n",
              "<style scoped>\n",
              "    .dataframe tbody tr th:only-of-type {\n",
              "        vertical-align: middle;\n",
              "    }\n",
              "\n",
              "    .dataframe tbody tr th {\n",
              "        vertical-align: top;\n",
              "    }\n",
              "\n",
              "    .dataframe thead th {\n",
              "        text-align: right;\n",
              "    }\n",
              "</style>\n",
              "<table border=\"1\" class=\"dataframe\">\n",
              "  <thead>\n",
              "    <tr style=\"text-align: right;\">\n",
              "      <th></th>\n",
              "      <th>Open</th>\n",
              "    </tr>\n",
              "  </thead>\n",
              "  <tbody>\n",
              "    <tr>\n",
              "      <th>0</th>\n",
              "      <td>1.1250</td>\n",
              "    </tr>\n",
              "    <tr>\n",
              "      <th>1</th>\n",
              "      <td>1.0375</td>\n",
              "    </tr>\n",
              "    <tr>\n",
              "      <th>2</th>\n",
              "      <td>1.0750</td>\n",
              "    </tr>\n",
              "    <tr>\n",
              "      <th>3</th>\n",
              "      <td>1.0750</td>\n",
              "    </tr>\n",
              "    <tr>\n",
              "      <th>4</th>\n",
              "      <td>1.0750</td>\n",
              "    </tr>\n",
              "  </tbody>\n",
              "</table>\n",
              "</div>"
            ],
            "text/plain": [
              "     Open\n",
              "0  1.1250\n",
              "1  1.0375\n",
              "2  1.0750\n",
              "3  1.0750\n",
              "4  1.0750"
            ]
          },
          "execution_count": 4,
          "metadata": {},
          "output_type": "execute_result"
        }
      ],
      "source": [
        "# getting the real stock of 2017 i.e., importing the test dataset\n",
        "\n",
        "test_data = pd.read_csv('./WIPRO.NS.csv')\n",
        "real_stock_price = test_data.iloc[:,1:2]\n",
        "real_stock_price.head()\n",
        "# real_stock_price.shape"
      ]
    },
    {
      "cell_type": "code",
      "execution_count": 6,
      "metadata": {
        "id": "sYfYkJi4WBG2"
      },
      "outputs": [
        {
          "ename": "NotFittedError",
          "evalue": "This MinMaxScaler instance is not fitted yet. Call 'fit' with appropriate arguments before using this estimator.",
          "output_type": "error",
          "traceback": [
            "\u001b[1;31m---------------------------------------------------------------------------\u001b[0m",
            "\u001b[1;31mNotFittedError\u001b[0m                            Traceback (most recent call last)",
            "\u001b[1;32md:\\proj\\Copy_of_Stock_Prediction.ipynb Cell 11'\u001b[0m in \u001b[0;36m<module>\u001b[1;34m\u001b[0m\n\u001b[0;32m      <a href='vscode-notebook-cell:/d%3A/proj/Copy_of_Stock_Prediction.ipynb#ch0000010?line=2'>3</a>\u001b[0m mm\u001b[39m=\u001b[39mMinMaxScaler(feature_range\u001b[39m=\u001b[39m(\u001b[39m0\u001b[39m,\u001b[39m1\u001b[39m))\n\u001b[0;32m      <a href='vscode-notebook-cell:/d%3A/proj/Copy_of_Stock_Prediction.ipynb#ch0000010?line=3'>4</a>\u001b[0m inputs \u001b[39m=\u001b[39m real_stock_price\n\u001b[1;32m----> <a href='vscode-notebook-cell:/d%3A/proj/Copy_of_Stock_Prediction.ipynb#ch0000010?line=4'>5</a>\u001b[0m inputs \u001b[39m=\u001b[39m mm\u001b[39m.\u001b[39;49mtransform(inputs)\n\u001b[0;32m      <a href='vscode-notebook-cell:/d%3A/proj/Copy_of_Stock_Prediction.ipynb#ch0000010?line=5'>6</a>\u001b[0m \u001b[39m# inputs = np.reshape(inputs, (66, 100, 1))\u001b[39;00m\n\u001b[0;32m      <a href='vscode-notebook-cell:/d%3A/proj/Copy_of_Stock_Prediction.ipynb#ch0000010?line=8'>9</a>\u001b[0m predicted_stock_price \u001b[39m=\u001b[39m model\u001b[39m.\u001b[39mpredict(inputs)\n",
            "File \u001b[1;32m~\\AppData\\Local\\Programs\\Python\\Python38\\lib\\site-packages\\sklearn\\preprocessing\\_data.py:494\u001b[0m, in \u001b[0;36mMinMaxScaler.transform\u001b[1;34m(self, X)\u001b[0m\n\u001b[0;32m    <a href='file:///c%3A/Users/Amit%20Yadav/AppData/Local/Programs/Python/Python38/lib/site-packages/sklearn/preprocessing/_data.py?line=480'>481</a>\u001b[0m \u001b[39mdef\u001b[39;00m \u001b[39mtransform\u001b[39m(\u001b[39mself\u001b[39m, X):\n\u001b[0;32m    <a href='file:///c%3A/Users/Amit%20Yadav/AppData/Local/Programs/Python/Python38/lib/site-packages/sklearn/preprocessing/_data.py?line=481'>482</a>\u001b[0m     \u001b[39m\"\"\"Scale features of X according to feature_range.\u001b[39;00m\n\u001b[0;32m    <a href='file:///c%3A/Users/Amit%20Yadav/AppData/Local/Programs/Python/Python38/lib/site-packages/sklearn/preprocessing/_data.py?line=482'>483</a>\u001b[0m \n\u001b[0;32m    <a href='file:///c%3A/Users/Amit%20Yadav/AppData/Local/Programs/Python/Python38/lib/site-packages/sklearn/preprocessing/_data.py?line=483'>484</a>\u001b[0m \u001b[39m    Parameters\u001b[39;00m\n\u001b[1;32m   (...)\u001b[0m\n\u001b[0;32m    <a href='file:///c%3A/Users/Amit%20Yadav/AppData/Local/Programs/Python/Python38/lib/site-packages/sklearn/preprocessing/_data.py?line=491'>492</a>\u001b[0m \u001b[39m        Transformed data.\u001b[39;00m\n\u001b[0;32m    <a href='file:///c%3A/Users/Amit%20Yadav/AppData/Local/Programs/Python/Python38/lib/site-packages/sklearn/preprocessing/_data.py?line=492'>493</a>\u001b[0m \u001b[39m    \"\"\"\u001b[39;00m\n\u001b[1;32m--> <a href='file:///c%3A/Users/Amit%20Yadav/AppData/Local/Programs/Python/Python38/lib/site-packages/sklearn/preprocessing/_data.py?line=493'>494</a>\u001b[0m     check_is_fitted(\u001b[39mself\u001b[39;49m)\n\u001b[0;32m    <a href='file:///c%3A/Users/Amit%20Yadav/AppData/Local/Programs/Python/Python38/lib/site-packages/sklearn/preprocessing/_data.py?line=495'>496</a>\u001b[0m     X \u001b[39m=\u001b[39m \u001b[39mself\u001b[39m\u001b[39m.\u001b[39m_validate_data(\n\u001b[0;32m    <a href='file:///c%3A/Users/Amit%20Yadav/AppData/Local/Programs/Python/Python38/lib/site-packages/sklearn/preprocessing/_data.py?line=496'>497</a>\u001b[0m         X,\n\u001b[0;32m    <a href='file:///c%3A/Users/Amit%20Yadav/AppData/Local/Programs/Python/Python38/lib/site-packages/sklearn/preprocessing/_data.py?line=497'>498</a>\u001b[0m         copy\u001b[39m=\u001b[39m\u001b[39mself\u001b[39m\u001b[39m.\u001b[39mcopy,\n\u001b[1;32m   (...)\u001b[0m\n\u001b[0;32m    <a href='file:///c%3A/Users/Amit%20Yadav/AppData/Local/Programs/Python/Python38/lib/site-packages/sklearn/preprocessing/_data.py?line=500'>501</a>\u001b[0m         reset\u001b[39m=\u001b[39m\u001b[39mFalse\u001b[39;00m,\n\u001b[0;32m    <a href='file:///c%3A/Users/Amit%20Yadav/AppData/Local/Programs/Python/Python38/lib/site-packages/sklearn/preprocessing/_data.py?line=501'>502</a>\u001b[0m     )\n\u001b[0;32m    <a href='file:///c%3A/Users/Amit%20Yadav/AppData/Local/Programs/Python/Python38/lib/site-packages/sklearn/preprocessing/_data.py?line=503'>504</a>\u001b[0m     X \u001b[39m*\u001b[39m\u001b[39m=\u001b[39m \u001b[39mself\u001b[39m\u001b[39m.\u001b[39mscale_\n",
            "File \u001b[1;32m~\\AppData\\Local\\Programs\\Python\\Python38\\lib\\site-packages\\sklearn\\utils\\validation.py:1222\u001b[0m, in \u001b[0;36mcheck_is_fitted\u001b[1;34m(estimator, attributes, msg, all_or_any)\u001b[0m\n\u001b[0;32m   <a href='file:///c%3A/Users/Amit%20Yadav/AppData/Local/Programs/Python/Python38/lib/site-packages/sklearn/utils/validation.py?line=1216'>1217</a>\u001b[0m     fitted \u001b[39m=\u001b[39m [\n\u001b[0;32m   <a href='file:///c%3A/Users/Amit%20Yadav/AppData/Local/Programs/Python/Python38/lib/site-packages/sklearn/utils/validation.py?line=1217'>1218</a>\u001b[0m         v \u001b[39mfor\u001b[39;00m v \u001b[39min\u001b[39;00m \u001b[39mvars\u001b[39m(estimator) \u001b[39mif\u001b[39;00m v\u001b[39m.\u001b[39mendswith(\u001b[39m\"\u001b[39m\u001b[39m_\u001b[39m\u001b[39m\"\u001b[39m) \u001b[39mand\u001b[39;00m \u001b[39mnot\u001b[39;00m v\u001b[39m.\u001b[39mstartswith(\u001b[39m\"\u001b[39m\u001b[39m__\u001b[39m\u001b[39m\"\u001b[39m)\n\u001b[0;32m   <a href='file:///c%3A/Users/Amit%20Yadav/AppData/Local/Programs/Python/Python38/lib/site-packages/sklearn/utils/validation.py?line=1218'>1219</a>\u001b[0m     ]\n\u001b[0;32m   <a href='file:///c%3A/Users/Amit%20Yadav/AppData/Local/Programs/Python/Python38/lib/site-packages/sklearn/utils/validation.py?line=1220'>1221</a>\u001b[0m \u001b[39mif\u001b[39;00m \u001b[39mnot\u001b[39;00m fitted:\n\u001b[1;32m-> <a href='file:///c%3A/Users/Amit%20Yadav/AppData/Local/Programs/Python/Python38/lib/site-packages/sklearn/utils/validation.py?line=1221'>1222</a>\u001b[0m     \u001b[39mraise\u001b[39;00m NotFittedError(msg \u001b[39m%\u001b[39m {\u001b[39m\"\u001b[39m\u001b[39mname\u001b[39m\u001b[39m\"\u001b[39m: \u001b[39mtype\u001b[39m(estimator)\u001b[39m.\u001b[39m\u001b[39m__name__\u001b[39m})\n",
            "\u001b[1;31mNotFittedError\u001b[0m: This MinMaxScaler instance is not fitted yet. Call 'fit' with appropriate arguments before using this estimator."
          ]
        }
      ],
      "source": [
        "# getting the predicted stock price of 2017\n",
        "from sklearn.preprocessing import MinMaxScaler\n",
        "mm=MinMaxScaler(feature_range=(0,1))\n",
        "inputs = real_stock_price\n",
        "inputs = mm.transform(inputs)\n",
        "# inputs = np.reshape(inputs, (66, 100, 1))\n",
        "\n",
        "\n",
        "predicted_stock_price = model.predict(inputs)\n",
        "predicted_stock_price = mm.inverse_transform(predicted_stock_price)\n"
      ]
    },
    {
      "cell_type": "code",
      "execution_count": 22,
      "metadata": {
        "colab": {
          "base_uri": "https://localhost:8080/",
          "height": 392
        },
        "id": "3tvcHwk8W2no",
        "outputId": "6a8e1f36-99ec-4728-f479-a583d133d60c"
      },
      "outputs": [
        {
          "data": {
            "text/plain": [
              "array([[nan],\n",
              "       [nan],\n",
              "       [nan],\n",
              "       ...,\n",
              "       [nan],\n",
              "       [nan],\n",
              "       [nan]], dtype=float32)"
            ]
          },
          "execution_count": 22,
          "metadata": {},
          "output_type": "execute_result"
        }
      ],
      "source": [
        "predicted_stock_price"
      ]
    },
    {
      "cell_type": "code",
      "execution_count": 23,
      "metadata": {
        "colab": {
          "base_uri": "https://localhost:8080/",
          "height": 376
        },
        "id": "pkA9SvUqXF4M",
        "outputId": "4ae4b823-bc7f-4eda-bd84-aba6f0e8adfb"
      },
      "outputs": [
        {
          "data": {
            "image/png": "[encoded data removed]",
            "text/plain": [
              "<Figure size 432x288 with 1 Axes>"
            ]
          },
          "metadata": {
            "needs_background": "light"
          },
          "output_type": "display_data"
        }
      ],
      "source": [
        "# visualizing the results\n",
        "\n",
        "plt.plot(real_stock_price, color = 'red', label = 'Real Google Stock Price')\n",
        "plt.plot(predicted_stock_price, color = 'blue', label = 'Predicted Google Stock Price')\n",
        "plt.title('Stock Prediction')\n",
        "plt.xlabel('Time')\n",
        "plt.ylabel('Google Stock Price')\n",
        "plt.legend()\n",
        "plt.show()"
      ]
    },
    {
      "cell_type": "code",
      "execution_count": null,
      "metadata": {
        "colab": {
          "base_uri": "https://localhost:8080/",
          "height": 206
        },
        "id": "a_5uKG6UYpxB",
        "outputId": "ea411307-5363-4908-cf5a-62617368ada4"
      },
      "outputs": [
        {
          "data": {
            "text/html": [
              "<div>\n",
              "<style scoped>\n",
              "    .dataframe tbody tr th:only-of-type {\n",
              "        vertical-align: middle;\n",
              "    }\n",
              "\n",
              "    .dataframe tbody tr th {\n",
              "        vertical-align: top;\n",
              "    }\n",
              "\n",
              "    .dataframe thead th {\n",
              "        text-align: right;\n",
              "    }\n",
              "</style>\n",
              "<table border=\"1\" class=\"dataframe\">\n",
              "  <thead>\n",
              "    <tr style=\"text-align: right;\">\n",
              "      <th></th>\n",
              "      <th>Date</th>\n",
              "      <th>Open</th>\n",
              "      <th>High</th>\n",
              "      <th>Low</th>\n",
              "      <th>Close</th>\n",
              "      <th>Volume</th>\n",
              "    </tr>\n",
              "  </thead>\n",
              "  <tbody>\n",
              "    <tr>\n",
              "      <th>0</th>\n",
              "      <td>1/3/2012</td>\n",
              "      <td>325.25</td>\n",
              "      <td>332.83</td>\n",
              "      <td>324.97</td>\n",
              "      <td>663.59</td>\n",
              "      <td>7,380,500</td>\n",
              "    </tr>\n",
              "    <tr>\n",
              "      <th>1</th>\n",
              "      <td>1/4/2012</td>\n",
              "      <td>331.27</td>\n",
              "      <td>333.87</td>\n",
              "      <td>329.08</td>\n",
              "      <td>666.45</td>\n",
              "      <td>5,749,400</td>\n",
              "    </tr>\n",
              "    <tr>\n",
              "      <th>2</th>\n",
              "      <td>1/5/2012</td>\n",
              "      <td>329.83</td>\n",
              "      <td>330.75</td>\n",
              "      <td>326.89</td>\n",
              "      <td>657.21</td>\n",
              "      <td>6,590,300</td>\n",
              "    </tr>\n",
              "    <tr>\n",
              "      <th>3</th>\n",
              "      <td>1/6/2012</td>\n",
              "      <td>328.34</td>\n",
              "      <td>328.77</td>\n",
              "      <td>323.68</td>\n",
              "      <td>648.24</td>\n",
              "      <td>5,405,900</td>\n",
              "    </tr>\n",
              "    <tr>\n",
              "      <th>4</th>\n",
              "      <td>1/9/2012</td>\n",
              "      <td>322.04</td>\n",
              "      <td>322.29</td>\n",
              "      <td>309.46</td>\n",
              "      <td>620.76</td>\n",
              "      <td>11,688,800</td>\n",
              "    </tr>\n",
              "  </tbody>\n",
              "</table>\n",
              "</div>"
            ],
            "text/plain": [
              "       Date    Open    High     Low   Close      Volume\n",
              "0  1/3/2012  325.25  332.83  324.97  663.59   7,380,500\n",
              "1  1/4/2012  331.27  333.87  329.08  666.45   5,749,400\n",
              "2  1/5/2012  329.83  330.75  326.89  657.21   6,590,300\n",
              "3  1/6/2012  328.34  328.77  323.68  648.24   5,405,900\n",
              "4  1/9/2012  322.04  322.29  309.46  620.76  11,688,800"
            ]
          },
          "execution_count": 26,
          "metadata": {
            "tags": []
          },
          "output_type": "execute_result"
        }
      ],
      "source": [
        "# getting the real stock price of 2012 - 2016\n",
        "\n",
        "training_data = pd.read_csv('drive/My Drive/super/Recurrent Neural Networks/Google_Stock_Price_Train.csv')\n",
        "\n",
        "training_data.shape\n",
        "training_data.head()"
      ]
    },
    {
      "cell_type": "code",
      "execution_count": null,
      "metadata": {
        "colab": {
          "base_uri": "https://localhost:8080/",
          "height": 206
        },
        "id": "E7nPSVrHbQxM",
        "outputId": "72e39110-9a59-4196-f36f-54aa39867b95"
      },
      "outputs": [
        {
          "data": {
            "text/html": [
              "<div>\n",
              "<style scoped>\n",
              "    .dataframe tbody tr th:only-of-type {\n",
              "        vertical-align: middle;\n",
              "    }\n",
              "\n",
              "    .dataframe tbody tr th {\n",
              "        vertical-align: top;\n",
              "    }\n",
              "\n",
              "    .dataframe thead th {\n",
              "        text-align: right;\n",
              "    }\n",
              "</style>\n",
              "<table border=\"1\" class=\"dataframe\">\n",
              "  <thead>\n",
              "    <tr style=\"text-align: right;\">\n",
              "      <th></th>\n",
              "      <th>Open</th>\n",
              "    </tr>\n",
              "  </thead>\n",
              "  <tbody>\n",
              "    <tr>\n",
              "      <th>0</th>\n",
              "      <td>325.25</td>\n",
              "    </tr>\n",
              "    <tr>\n",
              "      <th>1</th>\n",
              "      <td>331.27</td>\n",
              "    </tr>\n",
              "    <tr>\n",
              "      <th>2</th>\n",
              "      <td>329.83</td>\n",
              "    </tr>\n",
              "    <tr>\n",
              "      <th>3</th>\n",
              "      <td>328.34</td>\n",
              "    </tr>\n",
              "    <tr>\n",
              "      <th>4</th>\n",
              "      <td>322.04</td>\n",
              "    </tr>\n",
              "  </tbody>\n",
              "</table>\n",
              "</div>"
            ],
            "text/plain": [
              "     Open\n",
              "0  325.25\n",
              "1  331.27\n",
              "2  329.83\n",
              "3  328.34\n",
              "4  322.04"
            ]
          },
          "execution_count": 27,
          "metadata": {
            "tags": []
          },
          "output_type": "execute_result"
        }
      ],
      "source": [
        "training_data = training_data.iloc[:, 1:2]\n",
        "\n",
        "training_data.shape\n",
        "training_data.head()"
      ]
    },
    {
      "cell_type": "code",
      "execution_count": 24,
      "metadata": {
        "id": "6uXzm4mBaIHq"
      },
      "outputs": [],
      "source": [
        "# getting the predicted stock price of 2012-2016\n",
        "\n",
        "predicted_stock_price = model.predict(x_train)\n",
        "predicted_stock_price = mm.inverse_transform(predicted_stock_price)"
      ]
    },
    {
      "cell_type": "code",
      "execution_count": 25,
      "metadata": {
        "colab": {
          "base_uri": "https://localhost:8080/",
          "height": 376
        },
        "id": "i76zfhK4arX9",
        "outputId": "741d3ec5-a540-4eae-addf-5823b4997145"
      },
      "outputs": [
        {
          "data": {
            "image/png": "[encoded data removed]",
            "text/plain": [
              "<Figure size 432x288 with 1 Axes>"
            ]
          },
          "metadata": {
            "needs_background": "light"
          },
          "output_type": "display_data"
        }
      ],
      "source": [
        "# visualizing the whole training data results\n",
        "\n",
        "plt.plot(training_data, color = 'red', label = 'Real Google Stock Price')\n",
        "plt.plot(predicted_stock_price, color = 'blue', label = 'Predicted Google Stock Price')\n",
        "plt.title('Stock Prediction')\n",
        "plt.xlabel('Time')\n",
        "plt.ylabel('Google Stock Price')\n",
        "plt.legend()\n",
        "plt.show()"
      ]
    },
    {
      "cell_type": "code",
      "execution_count": null,
      "metadata": {
        "colab": {
          "base_uri": "https://localhost:8080/",
          "height": 36
        },
        "id": "Oni1qcQja270",
        "outputId": "4a849729-d6d9-438d-92a6-289cb8cf986f"
      },
      "outputs": [
        {
          "name": "stdout",
          "output_type": "stream",
          "text": [
            "4.142058509061696\n"
          ]
        }
      ],
      "source": [
        "# Evaluating the RNN model\n",
        "\n",
        "import math\n",
        "\n",
        "from sklearn.metrics import mean_squared_error\n",
        "\n",
        "rmse = math.sqrt(mean_squared_error(real_stock_price, predicted_stock_price))\n",
        "\n",
        "print(rmse)"
      ]
    }
  ],
  "metadata": {
    "accelerator": "GPU",
    "colab": {
      "collapsed_sections": [],
      "name": "Copy of Stock_Prediction.ipynb",
      "provenance": []
    },
    "kernelspec": {
      "display_name": "Python 3",
      "name": "python3"
    },
    "language_info": {
      "codemirror_mode": {
        "name": "ipython",
        "version": 3
      },
      "file_extension": ".py",
      "mimetype": "text/x-python",
      "name": "python",
      "nbconvert_exporter": "python",
      "pygments_lexer": "ipython3",
      "version": "3.8.9"
    }
  },
  "nbformat": 4,
  "nbformat_minor": 0
}
